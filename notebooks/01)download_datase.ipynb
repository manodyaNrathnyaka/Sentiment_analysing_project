{
 "cells": [
  {
   "cell_type": "markdown",
   "id": "d5acf2d9",
   "metadata": {},
   "source": [
    "# Dataset Download Notebook\n",
    "\n",
    "This notebook is for downloading datasets for sentiment analysis."
   ]
  },
  {
   "cell_type": "code",
   "execution_count": 1,
   "id": "5159ef60",
   "metadata": {},
   "outputs": [
    {
     "name": "stdout",
     "output_type": "stream",
     "text": [
      "Hello, this is your dataset download notebook!\n"
     ]
    }
   ],
   "source": [
    "# Add your dataset download code here\n",
    "print(\"Hello, this is your dataset download notebook!\")"
   ]
  },
  {
   "cell_type": "code",
   "execution_count": 3,
   "id": "e8548003-18c7-4ddf-92c2-8b213338df55",
   "metadata": {},
   "outputs": [],
   "source": [
    "import json\n",
    "with open(\"../artifact/kaggle.json\",'r') as file:\n",
    "    data =json.load(file)"
   ]
  },
  {
   "cell_type": "code",
   "execution_count": 4,
   "id": "e45a23fe-f185-49d0-95bc-0109068855a2",
   "metadata": {},
   "outputs": [
    {
     "data": {
      "text/plain": [
       "{'username': 'manodyarathnayaka', 'key': '973b115bb339e31860b041e2afe959aa'}"
      ]
     },
     "execution_count": 4,
     "metadata": {},
     "output_type": "execute_result"
    }
   ],
   "source": [
    "data"
   ]
  },
  {
   "cell_type": "code",
   "execution_count": 5,
   "id": "d02d320f-45df-4805-ab74-b401850fef76",
   "metadata": {},
   "outputs": [
    {
     "name": "stdout",
     "output_type": "stream",
     "text": [
      "Collecting kaggle\n",
      "  Obtaining dependency information for kaggle from https://files.pythonhosted.org/packages/14/83/7f29c7abe0d5dc769dad7da993382c3e4239ad63e1dd58414d129e0a4da2/kaggle-1.7.4.5-py3-none-any.whl.metadata\n",
      "  Downloading kaggle-1.7.4.5-py3-none-any.whl.metadata (16 kB)\n",
      "Requirement already satisfied: bleach in c:\\users\\manodya\\desktop\\bsc.ai\\projects\\sentiment_analysing_project\\sentiment_env\\lib\\site-packages (from kaggle) (6.2.0)\n",
      "Requirement already satisfied: certifi>=14.05.14 in c:\\users\\manodya\\desktop\\bsc.ai\\projects\\sentiment_analysing_project\\sentiment_env\\lib\\site-packages (from kaggle) (2025.10.5)\n",
      "Requirement already satisfied: charset-normalizer in c:\\users\\manodya\\desktop\\bsc.ai\\projects\\sentiment_analysing_project\\sentiment_env\\lib\\site-packages (from kaggle) (3.4.3)\n",
      "Requirement already satisfied: idna in c:\\users\\manodya\\desktop\\bsc.ai\\projects\\sentiment_analysing_project\\sentiment_env\\lib\\site-packages (from kaggle) (3.10)\n",
      "Collecting protobuf (from kaggle)\n",
      "  Obtaining dependency information for protobuf from https://files.pythonhosted.org/packages/8c/f3/6f58f841f6ebafe076cebeae33fc336e900619d34b1c93e4b5c97a81fdfa/protobuf-6.32.1-cp310-abi3-win_amd64.whl.metadata\n",
      "  Downloading protobuf-6.32.1-cp310-abi3-win_amd64.whl.metadata (593 bytes)\n",
      "Requirement already satisfied: python-dateutil>=2.5.3 in c:\\users\\manodya\\desktop\\bsc.ai\\projects\\sentiment_analysing_project\\sentiment_env\\lib\\site-packages (from kaggle) (2.9.0.post0)\n",
      "Collecting python-slugify (from kaggle)\n",
      "  Obtaining dependency information for python-slugify from https://files.pythonhosted.org/packages/a4/62/02da182e544a51a5c3ccf4b03ab79df279f9c60c5e82d5e8bec7ca26ac11/python_slugify-8.0.4-py2.py3-none-any.whl.metadata\n",
      "  Downloading python_slugify-8.0.4-py2.py3-none-any.whl.metadata (8.5 kB)\n",
      "Requirement already satisfied: requests in c:\\users\\manodya\\desktop\\bsc.ai\\projects\\sentiment_analysing_project\\sentiment_env\\lib\\site-packages (from kaggle) (2.32.5)\n",
      "Requirement already satisfied: setuptools>=21.0.0 in c:\\users\\manodya\\desktop\\bsc.ai\\projects\\sentiment_analysing_project\\sentiment_env\\lib\\site-packages (from kaggle) (80.9.0)\n",
      "Requirement already satisfied: six>=1.10 in c:\\users\\manodya\\desktop\\bsc.ai\\projects\\sentiment_analysing_project\\sentiment_env\\lib\\site-packages (from kaggle) (1.17.0)\n",
      "Collecting text-unidecode (from kaggle)\n",
      "  Obtaining dependency information for text-unidecode from https://files.pythonhosted.org/packages/a6/a5/c0b6468d3824fe3fde30dbb5e1f687b291608f9473681bbf7dabbf5a87d7/text_unidecode-1.3-py2.py3-none-any.whl.metadata\n",
      "  Downloading text_unidecode-1.3-py2.py3-none-any.whl.metadata (2.4 kB)\n",
      "Collecting tqdm (from kaggle)\n",
      "  Obtaining dependency information for tqdm from https://files.pythonhosted.org/packages/d0/30/dc54f88dd4a2b5dc8a0279bdd7270e735851848b762aeb1c1184ed1f6b14/tqdm-4.67.1-py3-none-any.whl.metadata\n",
      "  Using cached tqdm-4.67.1-py3-none-any.whl.metadata (57 kB)\n",
      "Requirement already satisfied: urllib3>=1.15.1 in c:\\users\\manodya\\desktop\\bsc.ai\\projects\\sentiment_analysing_project\\sentiment_env\\lib\\site-packages (from kaggle) (2.5.0)\n",
      "Requirement already satisfied: webencodings in c:\\users\\manodya\\desktop\\bsc.ai\\projects\\sentiment_analysing_project\\sentiment_env\\lib\\site-packages (from kaggle) (0.5.1)\n",
      "Requirement already satisfied: colorama in c:\\users\\manodya\\desktop\\bsc.ai\\projects\\sentiment_analysing_project\\sentiment_env\\lib\\site-packages (from tqdm->kaggle) (0.4.6)\n",
      "Downloading kaggle-1.7.4.5-py3-none-any.whl (181 kB)\n",
      "   ---------------------------------------- 0.0/181.2 kB ? eta -:--:--\n",
      "   -- ------------------------------------- 10.2/181.2 kB ? eta -:--:--\n",
      "   ------------- ------------------------- 61.4/181.2 kB 656.4 kB/s eta 0:00:01\n",
      "   --------------- ----------------------- 71.7/181.2 kB 653.6 kB/s eta 0:00:01\n",
      "   ------------------- ------------------- 92.2/181.2 kB 655.4 kB/s eta 0:00:01\n",
      "   ------------------------------ ------- 143.4/181.2 kB 655.8 kB/s eta 0:00:01\n",
      "   ------------------------------------ - 174.1/181.2 kB 655.4 kB/s eta 0:00:01\n",
      "   -------------------------------------- 181.2/181.2 kB 608.5 kB/s eta 0:00:00\n",
      "Downloading protobuf-6.32.1-cp310-abi3-win_amd64.whl (435 kB)\n",
      "   ---------------------------------------- 0.0/435.7 kB ? eta -:--:--\n",
      "   --------- ------------------------------ 102.4/435.7 kB 2.9 MB/s eta 0:00:01\n",
      "   ------------- -------------------------- 143.4/435.7 kB 1.7 MB/s eta 0:00:01\n",
      "   -------------------- ------------------- 225.3/435.7 kB 1.5 MB/s eta 0:00:01\n",
      "   -------------------- ------------------- 225.3/435.7 kB 1.5 MB/s eta 0:00:01\n",
      "   -------------------- ------------------- 225.3/435.7 kB 1.5 MB/s eta 0:00:01\n",
      "   -------------------- ------------------- 225.3/435.7 kB 1.5 MB/s eta 0:00:01\n",
      "   -------------------- ------------------- 225.3/435.7 kB 1.5 MB/s eta 0:00:01\n",
      "   -------------------- ------------------- 225.3/435.7 kB 1.5 MB/s eta 0:00:01\n",
      "   -------------------- ------------------- 225.3/435.7 kB 1.5 MB/s eta 0:00:01\n",
      "   -------------------- ------------------- 225.3/435.7 kB 1.5 MB/s eta 0:00:01\n",
      "   -------------------- ------------------- 225.3/435.7 kB 1.5 MB/s eta 0:00:01\n",
      "   -------------------- ------------------- 225.3/435.7 kB 1.5 MB/s eta 0:00:01\n",
      "   -------------------- ----------------- 235.5/435.7 kB 389.8 kB/s eta 0:00:01\n",
      "   -------------------- ----------------- 235.5/435.7 kB 389.8 kB/s eta 0:00:01\n",
      "   -------------------- ----------------- 235.5/435.7 kB 389.8 kB/s eta 0:00:01\n",
      "   -------------------- ----------------- 235.5/435.7 kB 389.8 kB/s eta 0:00:01\n",
      "   -------------------- ----------------- 235.5/435.7 kB 389.8 kB/s eta 0:00:01\n",
      "   -------------------- ----------------- 235.5/435.7 kB 389.8 kB/s eta 0:00:01\n",
      "   -------------------- ----------------- 235.5/435.7 kB 389.8 kB/s eta 0:00:01\n",
      "   -------------------- ----------------- 235.5/435.7 kB 389.8 kB/s eta 0:00:01\n",
      "   -------------------- ----------------- 235.5/435.7 kB 389.8 kB/s eta 0:00:01\n",
      "   ----------------------- -------------- 266.2/435.7 kB 248.1 kB/s eta 0:00:01\n",
      "   ----------------------- -------------- 266.2/435.7 kB 248.1 kB/s eta 0:00:01\n",
      "   ----------------------- -------------- 266.2/435.7 kB 248.1 kB/s eta 0:00:01\n",
      "   ------------------------------ ------- 348.2/435.7 kB 296.2 kB/s eta 0:00:01\n",
      "   -------------------------------------- 435.7/435.7 kB 349.1 kB/s eta 0:00:00\n",
      "Downloading python_slugify-8.0.4-py2.py3-none-any.whl (10 kB)\n",
      "Downloading text_unidecode-1.3-py2.py3-none-any.whl (78 kB)\n",
      "   ---------------------------------------- 0.0/78.2 kB ? eta -:--:--\n",
      "   ----- ---------------------------------- 10.2/78.2 kB ? eta -:--:--\n",
      "   ----- ---------------------------------- 10.2/78.2 kB ? eta -:--:--\n",
      "   --------------- ------------------------ 30.7/78.2 kB 262.6 kB/s eta 0:00:01\n",
      "   ------------------------------- -------- 61.4/78.2 kB 363.1 kB/s eta 0:00:01\n",
      "   ---------------------------------------- 78.2/78.2 kB 334.6 kB/s eta 0:00:00\n",
      "Using cached tqdm-4.67.1-py3-none-any.whl (78 kB)\n",
      "Installing collected packages: text-unidecode, tqdm, python-slugify, protobuf, kaggle\n",
      "Successfully installed kaggle-1.7.4.5 protobuf-6.32.1 python-slugify-8.0.4 text-unidecode-1.3 tqdm-4.67.1\n"
     ]
    },
    {
     "name": "stderr",
     "output_type": "stream",
     "text": [
      "\n",
      "[notice] A new release of pip is available: 23.2.1 -> 25.2\n",
      "[notice] To update, run: python.exe -m pip install --upgrade pip\n"
     ]
    }
   ],
   "source": [
    "!pip install kaggle\n"
   ]
  },
  {
   "cell_type": "code",
   "execution_count": 6,
   "id": "338ed5b6-3611-433a-8632-09c81b71544d",
   "metadata": {},
   "outputs": [],
   "source": [
    "import os\n",
    "os.environ[\"KAGGLE_USERNAME\"]=data[\"username\"]\n",
    "os.environ[\"KAGGLE_KEY\"]=data[\"key\"]"
   ]
  },
  {
   "cell_type": "code",
   "execution_count": 8,
   "id": "bca88f26-2bef-45fb-9fe5-6eae355d190b",
   "metadata": {},
   "outputs": [],
   "source": [
    "from kaggle.api.kaggle_api_extended import KaggleApi\n",
    "api=KaggleApi()\n",
    "api.authenticate()"
   ]
  },
  {
   "cell_type": "code",
   "execution_count": 9,
   "id": "a63e31ae-e3c1-412e-9286-3c854699fcd5",
   "metadata": {},
   "outputs": [
    {
     "name": "stdout",
     "output_type": "stream",
     "text": [
      "Dataset URL: https://www.kaggle.com/datasets/dineshpiyasamara/sentiment-analysis-dataset\n"
     ]
    }
   ],
   "source": [
    "api.dataset_download_files('dineshpiyasamara/sentiment-analysis-dataset',path=\"../artifact\")"
   ]
  },
  {
   "cell_type": "code",
   "execution_count": 10,
   "id": "647133f0-b234-4237-b918-f22adb53604a",
   "metadata": {},
   "outputs": [],
   "source": [
    "import zipfile\n",
    "with zipfile.ZipFile(\"../artifact/sentiment-analysis-dataset.zip\",\"r\")as zip_ref:\n",
    "    zip_ref.extractall(\"../artifact/\")"
   ]
  }
 ],
 "metadata": {
  "kernelspec": {
   "display_name": "Python 3 (ipykernel)",
   "language": "python",
   "name": "python3"
  },
  "language_info": {
   "codemirror_mode": {
    "name": "ipython",
    "version": 3
   },
   "file_extension": ".py",
   "mimetype": "text/x-python",
   "name": "python",
   "nbconvert_exporter": "python",
   "pygments_lexer": "ipython3",
   "version": "3.12.0"
  }
 },
 "nbformat": 4,
 "nbformat_minor": 5
}
